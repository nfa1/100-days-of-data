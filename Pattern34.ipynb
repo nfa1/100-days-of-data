{
  "nbformat": 4,
  "nbformat_minor": 0,
  "metadata": {
    "colab": {
      "provenance": [],
      "authorship_tag": "ABX9TyO/X2AnNEcvFls5X/1Toa4+",
      "include_colab_link": true
    },
    "kernelspec": {
      "name": "python3",
      "display_name": "Python 3"
    },
    "language_info": {
      "name": "python"
    }
  },
  "cells": [
    {
      "cell_type": "markdown",
      "metadata": {
        "id": "view-in-github",
        "colab_type": "text"
      },
      "source": [
        "<a href=\"https://colab.research.google.com/github/nfa1/100-days-of-data/blob/main/Pattern34.ipynb\" target=\"_parent\"><img src=\"https://colab.research.google.com/assets/colab-badge.svg\" alt=\"Open In Colab\"/></a>"
      ]
    },
    {
      "cell_type": "code",
      "execution_count": 4,
      "metadata": {
        "colab": {
          "base_uri": "https://localhost:8080/"
        },
        "id": "lc-KBGpI0HDZ",
        "outputId": "f022a64c-0f65-4b05-ef4f-546871d7f2c3"
      },
      "outputs": [
        {
          "output_type": "stream",
          "name": "stdout",
          "text": [
            "Enter the row number:1\n",
            "  * \n"
          ]
        }
      ],
      "source": [
        "n = int(input(\"Enter the row number:\"))\n",
        "for i in range(1, 2*n):\n",
        "    for k in range(2*n - 1, i-1, -1):\n",
        "        print(\"  \", end=\"\")\n",
        "    for j in range(1, i+1):\n",
        "        if j == 1 or j == i:\n",
        "            print(\"* \", end=\"\")\n",
        "        elif i == 2*n-1:\n",
        "            print(\"* \", end=\"\")\n",
        "        else:\n",
        "            print(\"  \", end=\"\")\n",
        "    print()\n",
        "\n"
      ]
    },
    {
      "cell_type": "code",
      "source": [
        "n = int(input(\"Enter the row number:\"))\n",
        "for i in range(1, 2*n):\n",
        "    for k in range(2*n - 1, i-1, -1):\n",
        "        print(\"  \", end=\"\")\n",
        "    for j in range(1, i+1):\n",
        "        if j == 1 or j == i:\n",
        "            print(\"* \", end=\"\")\n",
        "        elif i == 2*n-1:\n",
        "            print(\"* \", end=\"\")\n",
        "        else:\n",
        "            print(\"  \", end=\"\")\n",
        "    print()\n"
      ],
      "metadata": {
        "colab": {
          "base_uri": "https://localhost:8080/"
        },
        "id": "9WkY9yOP0V-s",
        "outputId": "b11ae69e-2aba-4bc3-aa50-53adbc8e006c"
      },
      "execution_count": 5,
      "outputs": [
        {
          "output_type": "stream",
          "name": "stdout",
          "text": [
            "Enter the row number:2\n",
            "      * \n",
            "    * * \n",
            "  * * * \n"
          ]
        }
      ]
    },
    {
      "cell_type": "code",
      "source": [
        "n = int(input(\"Enter the row number:\"))\n",
        "for i in range(1, 2*n):\n",
        "    for k in range(2*n - 1, i-1, -1):\n",
        "        print(\"  \", end=\"\")\n",
        "    for j in range(1, i+1):\n",
        "        if j == 1 or j == i:\n",
        "            print(\"* \", end=\"\")\n",
        "        elif i == 2*n-1:\n",
        "            print(\"* \", end=\"\")\n",
        "        else:\n",
        "            print(\"  \", end=\"\")\n",
        "    print()\n"
      ],
      "metadata": {
        "colab": {
          "base_uri": "https://localhost:8080/"
        },
        "id": "RjhGujNh0aVf",
        "outputId": "60466bae-a733-48bd-91a9-9e1ad760d81a"
      },
      "execution_count": 6,
      "outputs": [
        {
          "output_type": "stream",
          "name": "stdout",
          "text": [
            "Enter the row number:3\n",
            "          * \n",
            "        * * \n",
            "      *   * \n",
            "    *     * \n",
            "  * * * * * \n"
          ]
        }
      ]
    },
    {
      "cell_type": "code",
      "source": [
        "n = int(input(\"Enter the row number:\"))\n",
        "for i in range(1, 2*n):\n",
        "    for k in range(2*n - 1, i-1, -1):\n",
        "        print(\"  \", end=\"\")\n",
        "    for j in range(1, i+1):\n",
        "        if j == 1 or j == i:\n",
        "            print(\"* \", end=\"\")\n",
        "        elif i == 2*n-1:\n",
        "            print(\"* \", end=\"\")\n",
        "        else:\n",
        "            print(\"  \", end=\"\")\n",
        "    print()"
      ],
      "metadata": {
        "colab": {
          "base_uri": "https://localhost:8080/"
        },
        "id": "zveZ7-yL0mhy",
        "outputId": "b31735f7-1d91-4a88-97c9-0a1003f5f8fa"
      },
      "execution_count": 8,
      "outputs": [
        {
          "output_type": "stream",
          "name": "stdout",
          "text": [
            "Enter the row number:10\n",
            "                                      * \n",
            "                                    * * \n",
            "                                  *   * \n",
            "                                *     * \n",
            "                              *       * \n",
            "                            *         * \n",
            "                          *           * \n",
            "                        *             * \n",
            "                      *               * \n",
            "                    *                 * \n",
            "                  *                   * \n",
            "                *                     * \n",
            "              *                       * \n",
            "            *                         * \n",
            "          *                           * \n",
            "        *                             * \n",
            "      *                               * \n",
            "    *                                 * \n",
            "  * * * * * * * * * * * * * * * * * * * \n"
          ]
        }
      ]
    }
  ]
}